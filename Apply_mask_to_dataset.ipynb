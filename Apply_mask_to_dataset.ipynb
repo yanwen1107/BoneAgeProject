{
  "nbformat": 4,
  "nbformat_minor": 0,
  "metadata": {
    "colab": {
      "provenance": []
    },
    "kernelspec": {
      "name": "python3",
      "display_name": "Python 3"
    },
    "language_info": {
      "name": "python"
    },
    "accelerator": "TPU"
  },
  "cells": [
    {
      "cell_type": "markdown",
      "source": [
        "# **Apply mask to dataset**\n"
      ],
      "metadata": {
        "id": "yKWocEY_Uqel"
      }
    },
    {
      "cell_type": "markdown",
      "source": [
        "## **Upload kaggle json**"
      ],
      "metadata": {
        "id": "daZvj8ERq94Z"
      }
    },
    {
      "cell_type": "code",
      "source": [
        "!pip install -q kaggle\n",
        "from google.colab import files\n",
        "\n",
        "# Download API Credentials\n",
        "files.upload()\n",
        "! mkdir ~/.kaggle\n",
        "! cp kaggle.json ~/.kaggle/\n",
        "! chmod 600 ~/.kaggle/kaggle.json\n",
        "! kaggle datasets list"
      ],
      "metadata": {
        "id": "TW6vs8VSCp67",
        "colab": {
          "base_uri": "https://localhost:8080/",
          "height": 497
        },
        "outputId": "c8095215-30fd-4290-f147-74e4c836c056"
      },
      "execution_count": null,
      "outputs": [
        {
          "output_type": "display_data",
          "data": {
            "text/plain": [
              "<IPython.core.display.HTML object>"
            ],
            "text/html": [
              "\n",
              "     <input type=\"file\" id=\"files-5cfb7a1a-2076-4116-9f0b-92a5348c86e3\" name=\"files[]\" multiple disabled\n",
              "        style=\"border:none\" />\n",
              "     <output id=\"result-5cfb7a1a-2076-4116-9f0b-92a5348c86e3\">\n",
              "      Upload widget is only available when the cell has been executed in the\n",
              "      current browser session. Please rerun this cell to enable.\n",
              "      </output>\n",
              "      <script>// Copyright 2017 Google LLC\n",
              "//\n",
              "// Licensed under the Apache License, Version 2.0 (the \"License\");\n",
              "// you may not use this file except in compliance with the License.\n",
              "// You may obtain a copy of the License at\n",
              "//\n",
              "//      http://www.apache.org/licenses/LICENSE-2.0\n",
              "//\n",
              "// Unless required by applicable law or agreed to in writing, software\n",
              "// distributed under the License is distributed on an \"AS IS\" BASIS,\n",
              "// WITHOUT WARRANTIES OR CONDITIONS OF ANY KIND, either express or implied.\n",
              "// See the License for the specific language governing permissions and\n",
              "// limitations under the License.\n",
              "\n",
              "/**\n",
              " * @fileoverview Helpers for google.colab Python module.\n",
              " */\n",
              "(function(scope) {\n",
              "function span(text, styleAttributes = {}) {\n",
              "  const element = document.createElement('span');\n",
              "  element.textContent = text;\n",
              "  for (const key of Object.keys(styleAttributes)) {\n",
              "    element.style[key] = styleAttributes[key];\n",
              "  }\n",
              "  return element;\n",
              "}\n",
              "\n",
              "// Max number of bytes which will be uploaded at a time.\n",
              "const MAX_PAYLOAD_SIZE = 100 * 1024;\n",
              "\n",
              "function _uploadFiles(inputId, outputId) {\n",
              "  const steps = uploadFilesStep(inputId, outputId);\n",
              "  const outputElement = document.getElementById(outputId);\n",
              "  // Cache steps on the outputElement to make it available for the next call\n",
              "  // to uploadFilesContinue from Python.\n",
              "  outputElement.steps = steps;\n",
              "\n",
              "  return _uploadFilesContinue(outputId);\n",
              "}\n",
              "\n",
              "// This is roughly an async generator (not supported in the browser yet),\n",
              "// where there are multiple asynchronous steps and the Python side is going\n",
              "// to poll for completion of each step.\n",
              "// This uses a Promise to block the python side on completion of each step,\n",
              "// then passes the result of the previous step as the input to the next step.\n",
              "function _uploadFilesContinue(outputId) {\n",
              "  const outputElement = document.getElementById(outputId);\n",
              "  const steps = outputElement.steps;\n",
              "\n",
              "  const next = steps.next(outputElement.lastPromiseValue);\n",
              "  return Promise.resolve(next.value.promise).then((value) => {\n",
              "    // Cache the last promise value to make it available to the next\n",
              "    // step of the generator.\n",
              "    outputElement.lastPromiseValue = value;\n",
              "    return next.value.response;\n",
              "  });\n",
              "}\n",
              "\n",
              "/**\n",
              " * Generator function which is called between each async step of the upload\n",
              " * process.\n",
              " * @param {string} inputId Element ID of the input file picker element.\n",
              " * @param {string} outputId Element ID of the output display.\n",
              " * @return {!Iterable<!Object>} Iterable of next steps.\n",
              " */\n",
              "function* uploadFilesStep(inputId, outputId) {\n",
              "  const inputElement = document.getElementById(inputId);\n",
              "  inputElement.disabled = false;\n",
              "\n",
              "  const outputElement = document.getElementById(outputId);\n",
              "  outputElement.innerHTML = '';\n",
              "\n",
              "  const pickedPromise = new Promise((resolve) => {\n",
              "    inputElement.addEventListener('change', (e) => {\n",
              "      resolve(e.target.files);\n",
              "    });\n",
              "  });\n",
              "\n",
              "  const cancel = document.createElement('button');\n",
              "  inputElement.parentElement.appendChild(cancel);\n",
              "  cancel.textContent = 'Cancel upload';\n",
              "  const cancelPromise = new Promise((resolve) => {\n",
              "    cancel.onclick = () => {\n",
              "      resolve(null);\n",
              "    };\n",
              "  });\n",
              "\n",
              "  // Wait for the user to pick the files.\n",
              "  const files = yield {\n",
              "    promise: Promise.race([pickedPromise, cancelPromise]),\n",
              "    response: {\n",
              "      action: 'starting',\n",
              "    }\n",
              "  };\n",
              "\n",
              "  cancel.remove();\n",
              "\n",
              "  // Disable the input element since further picks are not allowed.\n",
              "  inputElement.disabled = true;\n",
              "\n",
              "  if (!files) {\n",
              "    return {\n",
              "      response: {\n",
              "        action: 'complete',\n",
              "      }\n",
              "    };\n",
              "  }\n",
              "\n",
              "  for (const file of files) {\n",
              "    const li = document.createElement('li');\n",
              "    li.append(span(file.name, {fontWeight: 'bold'}));\n",
              "    li.append(span(\n",
              "        `(${file.type || 'n/a'}) - ${file.size} bytes, ` +\n",
              "        `last modified: ${\n",
              "            file.lastModifiedDate ? file.lastModifiedDate.toLocaleDateString() :\n",
              "                                    'n/a'} - `));\n",
              "    const percent = span('0% done');\n",
              "    li.appendChild(percent);\n",
              "\n",
              "    outputElement.appendChild(li);\n",
              "\n",
              "    const fileDataPromise = new Promise((resolve) => {\n",
              "      const reader = new FileReader();\n",
              "      reader.onload = (e) => {\n",
              "        resolve(e.target.result);\n",
              "      };\n",
              "      reader.readAsArrayBuffer(file);\n",
              "    });\n",
              "    // Wait for the data to be ready.\n",
              "    let fileData = yield {\n",
              "      promise: fileDataPromise,\n",
              "      response: {\n",
              "        action: 'continue',\n",
              "      }\n",
              "    };\n",
              "\n",
              "    // Use a chunked sending to avoid message size limits. See b/62115660.\n",
              "    let position = 0;\n",
              "    do {\n",
              "      const length = Math.min(fileData.byteLength - position, MAX_PAYLOAD_SIZE);\n",
              "      const chunk = new Uint8Array(fileData, position, length);\n",
              "      position += length;\n",
              "\n",
              "      const base64 = btoa(String.fromCharCode.apply(null, chunk));\n",
              "      yield {\n",
              "        response: {\n",
              "          action: 'append',\n",
              "          file: file.name,\n",
              "          data: base64,\n",
              "        },\n",
              "      };\n",
              "\n",
              "      let percentDone = fileData.byteLength === 0 ?\n",
              "          100 :\n",
              "          Math.round((position / fileData.byteLength) * 100);\n",
              "      percent.textContent = `${percentDone}% done`;\n",
              "\n",
              "    } while (position < fileData.byteLength);\n",
              "  }\n",
              "\n",
              "  // All done.\n",
              "  yield {\n",
              "    response: {\n",
              "      action: 'complete',\n",
              "    }\n",
              "  };\n",
              "}\n",
              "\n",
              "scope.google = scope.google || {};\n",
              "scope.google.colab = scope.google.colab || {};\n",
              "scope.google.colab._files = {\n",
              "  _uploadFiles,\n",
              "  _uploadFilesContinue,\n",
              "};\n",
              "})(self);\n",
              "</script> "
            ]
          },
          "metadata": {}
        },
        {
          "output_type": "stream",
          "name": "stdout",
          "text": [
            "Saving kaggle.json to kaggle.json\n",
            "ref                                                     title                                       size  lastUpdated          downloadCount  voteCount  usabilityRating  \n",
            "------------------------------------------------------  -----------------------------------------  -----  -------------------  -------------  ---------  ---------------  \n",
            "thedrcat/daigt-v2-train-dataset                         DAIGT V2 Train Dataset                      29MB  2023-11-16 01:38:36           3077        252  1.0              \n",
            "muhammadbinimran/housing-price-prediction-data          Housing Price Prediction Data              763KB  2023-11-21 17:56:32          12966        224  1.0              \n",
            "henryshan/2023-data-scientists-salary                   2023 Data Scientists Salary                 25KB  2023-12-14 10:14:34           2422         49  1.0              \n",
            "thedrcat/daigt-external-train-dataset                   DAIGT External Train Dataset               435MB  2023-11-06 17:10:37            477         55  1.0              \n",
            "thedrcat/daigt-proper-train-dataset                     DAIGT Proper Train Dataset                 119MB  2023-11-05 14:03:25           2384        188  1.0              \n",
            "henryshan/starbucks                                     Starbucks                                    5KB  2023-12-06 03:07:49           4581        102  1.0              \n",
            "bhavikjikadara/car-price-prediction-dataset             Car Price Prediction Dataset                 4KB  2023-12-23 07:07:54           1308         33  0.9411765        \n",
            "thedevastator/global-video-game-sales-and-reviews       Global Video Game Sales and Reviews         56KB  2023-12-20 06:36:51           1350         34  1.0              \n",
            "tonygordonjr/spotify-dataset-2023                       Spotify Dataset 2023                        96MB  2023-12-20 23:37:29           1080         32  1.0              \n",
            "thedrcat/daigt-v3-train-dataset                         daigt-v3-train-dataset                      83MB  2023-12-28 04:36:42            226         47  1.0              \n",
            "dansbecker/melbourne-housing-snapshot                   Melbourne Housing Snapshot                 451KB  2018-06-05 12:52:24         134340       1408  0.7058824        \n",
            "thedevastator/video-game-sales-and-ratings              Video Game Sales and Ratings               540KB  2023-12-20 07:10:36            850         29  1.0              \n",
            "rishabhkarn/ipl-auction-2023                            IPL Auction 2023                             4KB  2023-12-24 10:45:03            701         26  0.9411765        \n",
            "thedevastator/netflix-imdb-scores                       Netflix IMDB Scores                        699KB  2023-12-03 14:10:34           5519         97  1.0              \n",
            "marouandaghmoumi/titanic-dataset                        Titanic_dataset                             95KB  2023-12-28 10:12:59            428         22  0.8235294        \n",
            "vassyesboy/netflix-engagement-jan-jun-23                Netflix Engagement (Jan - Jun 23) +          2MB  2023-12-15 11:58:07           1252         30  1.0              \n",
            "sujaykapadnis/official-netflix-streaming-data           Official Netflix Viewership Database         2MB  2023-12-20 16:30:11            836         28  1.0              \n",
            "nayansubedi1/airplane-crashes-and-fatalities-upto-2023  Airplane Crashes and Fatalities upto 2023  624KB  2023-12-30 11:10:20            332         21  0.9411765        \n",
            "henryshan/student-performance-prediction                Student Performance Prediction              21KB  2023-12-27 13:23:44            480         28  1.0              \n",
            "zynicide/wine-reviews                                   Wine Reviews                                51MB  2017-11-27 17:08:04         250580       3550  0.7941176        \n"
          ]
        }
      ]
    },
    {
      "cell_type": "markdown",
      "source": [
        "## **Load data from kaggle**"
      ],
      "metadata": {
        "id": "CoQ5AJTswMbS"
      }
    },
    {
      "cell_type": "code",
      "source": [
        "!pip install opendatasets\n",
        "import opendatasets as od\n",
        "import os\n",
        "\n",
        "od.download(\n",
        "    \"https://www.kaggle.com/datasets/kmader/rsna-bone-age\")\n",
        "trainpath = 'rsna-bone-age/boneage-training-dataset/boneage-training-dataset'\n",
        "testpath = 'rsna-bone-age/boneage-test-dataset/boneage-test-dataset'"
      ],
      "metadata": {
        "colab": {
          "base_uri": "https://localhost:8080/"
        },
        "id": "CpfS4DuDrIla",
        "outputId": "06da2328-2cf1-4d53-908d-c647604a43ef"
      },
      "execution_count": null,
      "outputs": [
        {
          "output_type": "stream",
          "name": "stdout",
          "text": [
            "Collecting opendatasets\n",
            "  Downloading opendatasets-0.1.22-py3-none-any.whl (15 kB)\n",
            "Requirement already satisfied: tqdm in /usr/local/lib/python3.10/dist-packages (from opendatasets) (4.66.1)\n",
            "Requirement already satisfied: kaggle in /usr/local/lib/python3.10/dist-packages (from opendatasets) (1.5.16)\n",
            "Requirement already satisfied: click in /usr/local/lib/python3.10/dist-packages (from opendatasets) (8.1.7)\n",
            "Requirement already satisfied: six>=1.10 in /usr/local/lib/python3.10/dist-packages (from kaggle->opendatasets) (1.16.0)\n",
            "Requirement already satisfied: certifi in /usr/local/lib/python3.10/dist-packages (from kaggle->opendatasets) (2023.11.17)\n",
            "Requirement already satisfied: python-dateutil in /usr/local/lib/python3.10/dist-packages (from kaggle->opendatasets) (2.8.2)\n",
            "Requirement already satisfied: requests in /usr/local/lib/python3.10/dist-packages (from kaggle->opendatasets) (2.31.0)\n",
            "Requirement already satisfied: python-slugify in /usr/local/lib/python3.10/dist-packages (from kaggle->opendatasets) (8.0.1)\n",
            "Requirement already satisfied: urllib3 in /usr/local/lib/python3.10/dist-packages (from kaggle->opendatasets) (2.0.7)\n",
            "Requirement already satisfied: bleach in /usr/local/lib/python3.10/dist-packages (from kaggle->opendatasets) (6.1.0)\n",
            "Requirement already satisfied: webencodings in /usr/local/lib/python3.10/dist-packages (from bleach->kaggle->opendatasets) (0.5.1)\n",
            "Requirement already satisfied: text-unidecode>=1.3 in /usr/local/lib/python3.10/dist-packages (from python-slugify->kaggle->opendatasets) (1.3)\n",
            "Requirement already satisfied: charset-normalizer<4,>=2 in /usr/local/lib/python3.10/dist-packages (from requests->kaggle->opendatasets) (3.3.2)\n",
            "Requirement already satisfied: idna<4,>=2.5 in /usr/local/lib/python3.10/dist-packages (from requests->kaggle->opendatasets) (3.6)\n",
            "Installing collected packages: opendatasets\n",
            "Successfully installed opendatasets-0.1.22\n",
            "Downloading rsna-bone-age.zip to ./rsna-bone-age\n"
          ]
        },
        {
          "output_type": "stream",
          "name": "stderr",
          "text": [
            "100%|██████████| 9.29G/9.29G [01:42<00:00, 97.4MB/s]\n"
          ]
        },
        {
          "output_type": "stream",
          "name": "stdout",
          "text": [
            "\n"
          ]
        }
      ]
    },
    {
      "cell_type": "markdown",
      "source": [
        "## **Connect to TPU**"
      ],
      "metadata": {
        "id": "ygqe88z-rA3h"
      }
    },
    {
      "cell_type": "code",
      "source": [
        "%tensorflow_version 2.x\n",
        "import tensorflow as tf\n",
        "import tensorflow_datasets as tfds\n",
        "import time\n",
        "import os\n",
        "\n",
        "resolver = tf.distribute.cluster_resolver.TPUClusterResolver(tpu='grpc://' + os.environ['COLAB_TPU_ADDR'])\n",
        "tf.config.experimental_connect_to_cluster(resolver)\n",
        "tf.tpu.experimental.initialize_tpu_system(resolver)"
      ],
      "metadata": {
        "colab": {
          "base_uri": "https://localhost:8080/"
        },
        "id": "TToY2lKFrDrn",
        "outputId": "c0a5f672-c26e-4e33-cede-b47f225bb169"
      },
      "execution_count": null,
      "outputs": [
        {
          "output_type": "stream",
          "name": "stdout",
          "text": [
            "Colab only includes TensorFlow 2.x; %tensorflow_version has no effect.\n"
          ]
        },
        {
          "output_type": "execute_result",
          "data": {
            "text/plain": [
              "<tensorflow.python.tpu.topology.Topology at 0x7bb945deb220>"
            ]
          },
          "metadata": {},
          "execution_count": 2
        }
      ]
    },
    {
      "cell_type": "markdown",
      "source": [
        "## **Apply mask to dataset and save result to `trainning`**\n",
        "\n",
        "\n"
      ],
      "metadata": {
        "id": "5o0qbKJng5rU"
      }
    },
    {
      "cell_type": "code",
      "source": [
        "!unzip unet_mask.zip"
      ],
      "metadata": {
        "id": "Oki1B4MeYcS5"
      },
      "execution_count": null,
      "outputs": []
    },
    {
      "cell_type": "code",
      "source": [
        "import os\n",
        "import cv2\n",
        "import numpy as np\n",
        "\n",
        "maskspath = '/content/unet'\n",
        "\n",
        "# path to save mask merge result\n",
        "outputpath = '/content/trainning'\n",
        "\n",
        "\n",
        "def apply_mask(original_image, mask):\n",
        "    # transfer mask to binary format\n",
        "    mask_binary = (mask > 0.5).astype(np.uint8) * 255\n",
        "\n",
        "    # apply nask to original image\n",
        "    result_image = cv2.bitwise_and(original_image, original_image, mask=mask_binary)\n",
        "\n",
        "    return result_image\n",
        "\n",
        "def apply_mask_to_dataset(input_folder, masks_folder, output_folder):\n",
        "\n",
        "    os.makedirs(output_folder, exist_ok=True)\n",
        "\n",
        "    for filename in os.listdir(input_folder):\n",
        "        if filename.endswith(\".png\"):\n",
        "            original_image = cv2.imread(os.path.join(input_folder, filename), cv2.IMREAD_GRAYSCALE)\n",
        "            mask_filename = os.path.join(masks_folder, filename)\n",
        "\n",
        "            # make sure mask exist\n",
        "            if os.path.exists(mask_filename):\n",
        "                mask = cv2.imread(mask_filename, cv2.IMREAD_GRAYSCALE)\n",
        "\n",
        "                result_image = apply_mask(original_image, mask)\n",
        "\n",
        "                # save the result\n",
        "                output_filename = filename.replace(\".png\", \"_result.png\")\n",
        "                cv2.imwrite(os.path.join(output_folder, output_filename), result_image)\n",
        "\n",
        "apply_mask_to_dataset(trainpath, maskspath, outputpath)\n"
      ],
      "metadata": {
        "id": "9Qxejdfws1uL"
      },
      "execution_count": null,
      "outputs": []
    },
    {
      "cell_type": "markdown",
      "source": [
        "**make sure the result**"
      ],
      "metadata": {
        "id": "aZoTo5YbbnzV"
      }
    },
    {
      "cell_type": "code",
      "source": [
        "print(len(os.listdir(maskspath)))\n",
        "print(len(os.listdir(outputpath)))"
      ],
      "metadata": {
        "colab": {
          "base_uri": "https://localhost:8080/"
        },
        "id": "AHlJDhpiYvV1",
        "outputId": "78916231-d6d8-4465-da5e-e41bfc11085a"
      },
      "execution_count": null,
      "outputs": [
        {
          "output_type": "stream",
          "name": "stdout",
          "text": [
            "14213\n",
            "12588\n"
          ]
        }
      ]
    },
    {
      "cell_type": "markdown",
      "source": [
        "## **Save the merge result**"
      ],
      "metadata": {
        "id": "-rA5L3K1XZPM"
      }
    },
    {
      "cell_type": "code",
      "source": [
        "!zip -r /content/merge.zip /content/trainning"
      ],
      "metadata": {
        "id": "oIXwQUD8XmN9"
      },
      "execution_count": null,
      "outputs": []
    },
    {
      "cell_type": "code",
      "source": [
        "from google.colab import files\n",
        "files.download(\"/content/merge.zip\")"
      ],
      "metadata": {
        "id": "q8BYrgYpXgEW"
      },
      "execution_count": null,
      "outputs": []
    }
  ]
}